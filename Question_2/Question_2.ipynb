{
  "nbformat": 4,
  "nbformat_minor": 0,
  "metadata": {
    "colab": {
      "provenance": []
    },
    "kernelspec": {
      "name": "python3",
      "display_name": "Python 3"
    },
    "language_info": {
      "name": "python"
    }
  },
  "cells": [
    {
      "cell_type": "code",
      "source": [
        "from google.colab import drive\n",
        "drive.mount('/content/drive')"
      ],
      "metadata": {
        "id": "NeY-H76XQ47k"
      },
      "execution_count": null,
      "outputs": []
    },
    {
      "cell_type": "markdown",
      "source": [
        "## With Tiling"
      ],
      "metadata": {
        "id": "Y7mcL4yxWIcw"
      }
    },
    {
      "cell_type": "code",
      "source": [
        "!git clone https://github.com/ultralytics/yolov5.git\n",
        "!pip install -r yolov5/requirements.txt\n"
      ],
      "metadata": {
        "id": "n65VzrzTztMc"
      },
      "execution_count": null,
      "outputs": []
    },
    {
      "cell_type": "code",
      "source": [
        "!python /content/yolov5/export.py --weights yolov5s.pt --include torchscript --img 640\n"
      ],
      "metadata": {
        "id": "_mCMT5VJz5F7"
      },
      "execution_count": null,
      "outputs": []
    },
    {
      "cell_type": "code",
      "source": [
        "import torch\n",
        "from torchvision import transforms\n",
        "from PIL import Image, ImageDraw\n",
        "from glob import glob\n",
        "import os\n",
        "\n",
        "# Define the path to the pre-trained model file\n",
        "model_path = \"/content/yolov5s.pt\"\n",
        "\n",
        "# Load the YOLOv5 model from the specified file\n",
        "model = torch.hub.load('ultralytics/yolov5', 'custom', path=model_path)\n",
        "\n",
        "# Set the model to evaluation mode\n",
        "model.eval()\n",
        "\n",
        "# Define the path to your image directory\n",
        "image_dir = '/content/drive/MyDrive/Images/Dataset_internship-20230413T104907Z-001/Dataset_internship/*.jpeg'\n",
        "\n",
        "# Loop over all images in the directory\n",
        "for image_path in glob(image_dir):\n",
        "    # Load the image and convert it to RGB format\n",
        "    image = Image.open(image_path).convert('RGB')\n",
        "    \n",
        "    # Use the YOLOv5 model to detect objects in the image\n",
        "    results = model(image)\n",
        "    \n",
        "    # Extract the bounding boxes and class labels from the results\n",
        "    boxes = results.xyxy[0][:, :4].tolist()\n",
        "    labels = results.xyxyn[0][:, -1].tolist()\n",
        "    \n",
        "    # Filter the results to only include \"person\" class labels\n",
        "    person_boxes = [boxes[i] for i in range(len(labels)) if labels[i] == 0]\n",
        "    \n",
        "    # Draw the bounding boxes on the image\n",
        "    draw = ImageDraw.Draw(image)\n",
        "    for box in person_boxes:\n",
        "        draw.rectangle(box, outline='red')\n",
        "    \n",
        "    # Save the image with the bounding boxes overlaid\n",
        "    image.save('/content/drive/MyDrive/Images/' + os.path.basename(image_path))\n"
      ],
      "metadata": {
        "id": "4KQm0Vylz5xQ"
      },
      "execution_count": null,
      "outputs": []
    },
    {
      "cell_type": "code",
      "source": [],
      "metadata": {
        "id": "X7iyCTJKz50t"
      },
      "execution_count": null,
      "outputs": []
    },
    {
      "cell_type": "markdown",
      "source": [
        "## Without Tiling"
      ],
      "metadata": {
        "id": "bqszigzlWDx5"
      }
    },
    {
      "cell_type": "code",
      "source": [
        "import torch\n",
        "from torchvision import transforms\n",
        "from PIL import Image, ImageDraw\n",
        "from glob import glob\n",
        "import os\n",
        "\n",
        "# Define the path to the pre-trained model file\n",
        "model_path = \"/content/yolov5s.pt\"\n",
        "\n",
        "# Load the YOLOv5 model from the specified file\n",
        "model = torch.hub.load('ultralytics/yolov5', 'custom', path=model_path)\n",
        "\n",
        "# Set the model to evaluation mode\n",
        "model.eval()\n",
        "\n",
        "# Define the path to your image directory\n",
        "image_dir = '/content/drive/MyDrive/Images/Dataset_internship-20230413T104907Z-001/Dataset_internship/*.jpeg'\n",
        "\n",
        "# Define the number of tiles in each dimension\n",
        "num_tiles_x = 4\n",
        "num_tiles_y = 3\n",
        "\n",
        "# Loop over all images in the directory\n",
        "for image_path in glob(image_dir):\n",
        "    # Load the image and convert it to RGB format\n",
        "    image = Image.open(image_path).convert('RGB')\n",
        "    \n",
        "    # Compute the size of each tile\n",
        "    tile_width = image.width // num_tiles_x\n",
        "    tile_height = image.height // num_tiles_y\n",
        "    \n",
        "    # Loop over each tile and apply the person detection model\n",
        "    for i in range(num_tiles_x):\n",
        "        for j in range(num_tiles_y):\n",
        "            # Compute the coordinates of the tile\n",
        "            x1 = i * tile_width\n",
        "            y1 = j * tile_height\n",
        "            x2 = (i + 1) * tile_width\n",
        "            y2 = (j + 1) * tile_height\n",
        "            \n",
        "            # Crop the tile from the image\n",
        "            tile = image.crop((x1, y1, x2, y2))\n",
        "            \n",
        "            # Use the YOLOv5 model to detect objects in the tile\n",
        "            results = model(tile)\n",
        "            \n",
        "            # Extract the bounding boxes and class labels from the results\n",
        "            boxes = results.xyxy[0][:, :4].tolist()\n",
        "            labels = results.xyxyn[0][:, -1].tolist()\n",
        "            \n",
        "            # Filter the results to only include \"person\" class labels\n",
        "            person_boxes = [boxes[k] for k in range(len(labels)) if labels[k] == 0]\n",
        "            \n",
        "            # Draw the bounding boxes on the tile\n",
        "            draw = ImageDraw.Draw(tile)\n",
        "            for box in person_boxes:\n",
        "                draw.rectangle(box, outline='red')\n",
        "            \n",
        "            # Save the tile with the bounding boxes overlaid\n",
        "            tile.save('/content/drive/MyDrive/Images/with_tilling/' + os.path.basename(image_path) + '_tile{}_{}.jpeg'.format(i, j))\n"
      ],
      "metadata": {
        "id": "CBTWW7yTVzbN"
      },
      "execution_count": null,
      "outputs": []
    },
    {
      "cell_type": "code",
      "source": [],
      "metadata": {
        "id": "5rpclGfx3w6l"
      },
      "execution_count": null,
      "outputs": []
    }
  ]
}